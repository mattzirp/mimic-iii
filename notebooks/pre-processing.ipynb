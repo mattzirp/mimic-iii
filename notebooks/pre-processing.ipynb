{
 "cells": [
  {
   "cell_type": "markdown",
   "id": "e317094b",
   "metadata": {},
   "source": [
    "# Analyzing Short-Term Hospital Readmissions Using the MIMIC-III Dataset\n",
    "\n",
    "## Data Preprocessing \n",
    "\n",
    "The purpose of this notebook is to create a unified dataframe from disparate .csv files in the MIMIC-III dataset for the purposes of feature extraction and subsequent analysis."
   ]
  },
  {
   "cell_type": "code",
   "execution_count": 24,
   "id": "513b5bf1",
   "metadata": {},
   "outputs": [],
   "source": [
    "import pandas as pd\n",
    "import numpy as np"
   ]
  },
  {
   "cell_type": "code",
   "execution_count": 25,
   "id": "ea022b49",
   "metadata": {},
   "outputs": [],
   "source": [
    "data_path = '../data/mimic-iii/'\n",
    "output = '../data/pre-processed/'"
   ]
  },
  {
   "cell_type": "code",
   "execution_count": 26,
   "id": "903a434d",
   "metadata": {},
   "outputs": [],
   "source": [
    "# Read in relevant data for our project\n",
    "\n",
    "admissions = pd.read_csv(data_path + 'ADMISSIONS.csv/ADMISSIONS.csv')\n",
    "patients = pd.read_csv(data_path + 'PATIENTS.csv/PATIENTS.csv')\n",
    "diagnoses = pd.read_csv(data_path + 'DIAGNOSES_ICD.csv/DIAGNOSES_ICD.csv')\n",
    "diagnosis_dict = pd.read_csv(data_path + 'D_ICD_DIAGNOSES.csv/D_ICD_DIAGNOSES.csv')"
   ]
  },
  {
   "cell_type": "code",
   "execution_count": 27,
   "id": "e601f292",
   "metadata": {},
   "outputs": [],
   "source": [
    "# Convert datetime field types\n",
    "admissions['ADMITTIME'] = pd.to_datetime(admissions['ADMITTIME'])\n",
    "admissions['DISCHTIME'] = pd.to_datetime(admissions['DISCHTIME'])\n",
    "admissions['DEATHTIME'] = pd.to_datetime(admissions['DEATHTIME'])\n",
    "patients['DOB'] = pd.to_datetime(patients['DOB'])"
   ]
  },
  {
   "cell_type": "code",
   "execution_count": 28,
   "id": "b35d5894",
   "metadata": {},
   "outputs": [],
   "source": [
    "# Join the patients and admissions table on SUBJECT_ID (patient unique ID)\n",
    "patient_admissions = pd.merge(\n",
    "    admissions, \n",
    "    patients,\n",
    "    on='SUBJECT_ID',\n",
    "    how='left'\n",
    ")"
   ]
  },
  {
   "cell_type": "markdown",
   "id": "b47eb7f9",
   "metadata": {},
   "source": [
    "### Excluding Patients by Age\n",
    "\n",
    "Because children, newborns and the very elderly exhibit some different challenges for medical professionals, we'll seek to exclude those patients for the purposes of this analysis. \n",
    "\n",
    "We know that patients that were 89 and over were handled with a special de-identification process to further obscure their age and protect their identity. These patients were made to look 300 years old on the date of their first admission within the dataset. We plan to exclude them, but direct calculations of their age will give us some trouble, so we will first address those patients whose DOB has been age corrected, then calculate the age for the rest of the patient population, and finally filter our results for a minimum age of 18, and a maximum age of 88. "
   ]
  },
  {
   "cell_type": "code",
   "execution_count": 29,
   "id": "84783104",
   "metadata": {},
   "outputs": [
    {
     "name": "stdout",
     "output_type": "stream",
     "text": [
      "Unfiltered: 58976\n",
      "Filtered for age 18 - 89: 48149\n"
     ]
    }
   ],
   "source": [
    "# Set upper and lower bounds for age\n",
    "MIN_AGE = 18\n",
    "MAX_AGE = 89\n",
    "\n",
    "# Initialize column\n",
    "patient_admissions['AGE_AT_ADMISSION'] = np.nan\n",
    "\n",
    "elderly_mask = patient_admissions['DOB'].dt.year <= 1923\n",
    "\n",
    "patient_admissions.loc[elderly_mask, 'AGE_AT_ADMISSION'] = MAX_AGE\n",
    "\n",
    "remaining_population = patient_admissions['AGE_AT_ADMISSION'].isna()\n",
    "\n",
    "patient_admissions.loc[remaining_population, 'AGE_AT_ADMISSION'] = \\\n",
    "(patient_admissions.loc[remaining_population, 'ADMITTIME'] - patient_admissions.loc[remaining_population, 'DOB']).dt.days / 365.25\n",
    "\n",
    "\n",
    "patient_admissions_filtered = patient_admissions[\n",
    "    (patient_admissions['AGE_AT_ADMISSION'] >= MIN_AGE) &\n",
    "    (patient_admissions['AGE_AT_ADMISSION'] < MAX_AGE)\n",
    "].copy()\n",
    "\n",
    "print(f\"Unfiltered: {len(patient_admissions)}\")\n",
    "print(f\"Filtered for age {MIN_AGE} - {MAX_AGE}: {len(patient_admissions_filtered)}\")"
   ]
  },
  {
   "cell_type": "markdown",
   "id": "a88dfe63",
   "metadata": {},
   "source": [
    "### Excluding patients who died on their first visit\n",
    "\n",
    "We seek to examine factors leading to re-admission. If a patient dies on their first visit, they can not be readmitted to the hospital later, so we'll exclude them from our analysis.\n"
   ]
  },
  {
   "cell_type": "code",
   "execution_count": 30,
   "id": "a45cb485",
   "metadata": {},
   "outputs": [
    {
     "name": "stdout",
     "output_type": "stream",
     "text": [
      "Filtered for death on first stay: 43032\n"
     ]
    }
   ],
   "source": [
    "# Mask to identify death on first admission\n",
    "death_during_first_stay = (\n",
    "    patient_admissions_filtered['DEATHTIME'].notna() &\n",
    "    (patient_admissions_filtered['DEATHTIME'] >= patient_admissions_filtered['ADMITTIME']) &\n",
    "    (patient_admissions_filtered['DEATHTIME'] <= patient_admissions_filtered['DISCHTIME'])\n",
    ")\n",
    "\n",
    "# Use the mask to filter out patients who died on first admission\n",
    "patient_admissions_filtered = patient_admissions_filtered[~death_during_first_stay]\n",
    "\n",
    "print(f\"Filtered for death on first stay: {len(patient_admissions_filtered)}\")"
   ]
  },
  {
   "cell_type": "markdown",
   "id": "76d6fe40",
   "metadata": {},
   "source": [
    "### Bringing in Diagnoses\n",
    "\n",
    "To get the Diagnosis for each patient in plain English, we will need to make use of the ICD-9 dictionary which defines codes for conditions"
   ]
  },
  {
   "cell_type": "code",
   "execution_count": 31,
   "id": "c959247b",
   "metadata": {},
   "outputs": [],
   "source": [
    "diagnoses_full = pd.merge(\n",
    "    diagnoses,\n",
    "    diagnosis_dict,\n",
    "    on='ICD9_CODE',\n",
    "    how='left'\n",
    ")"
   ]
  },
  {
   "cell_type": "markdown",
   "id": "6076ae39",
   "metadata": {},
   "source": [
    "We don't need to retain diagnoses for patients we have already excluded, so we can filter those out before doing any more intensive operations."
   ]
  },
  {
   "cell_type": "code",
   "execution_count": 32,
   "id": "0f7fd4f2",
   "metadata": {},
   "outputs": [],
   "source": [
    "selected_ids = patient_admissions_filtered['HADM_ID'].unique()\n",
    "relevant_diagnoses = diagnoses_full[diagnoses_full['HADM_ID'].isin(selected_ids)]"
   ]
  },
  {
   "cell_type": "markdown",
   "id": "e74cdb7d",
   "metadata": {},
   "source": [
    "### Comorbidities \n",
    "\n",
    "Comorbidities are the simultaneous presence of two or more diseases or medical conditions. They are important to measure, as they represent confounding factors and a level of difficulty for doctors to assess. We will use the `comorbidipy` package to obtain a Charlson score for comorbidities."
   ]
  },
  {
   "cell_type": "code",
   "execution_count": 33,
   "id": "3565d61e",
   "metadata": {},
   "outputs": [],
   "source": [
    "from comorbidipy import comorbidity\n",
    "\n",
    "charlson = comorbidity(\n",
    "    df=relevant_diagnoses,\n",
    "    id ='HADM_ID',\n",
    "    code='ICD9_CODE',\n",
    "    age=None,\n",
    "    score='charlson',\n",
    "    icd='icd9'    \n",
    ")"
   ]
  },
  {
   "cell_type": "markdown",
   "id": "8ea5df75",
   "metadata": {},
   "source": [
    "We now have the comorbidity scores for each patient, with each comorbidity being given a binary score of 0 or 1, and the total score being the sum of all comorbidities the patient has. We only care about the total score, so we will keep that and merge it into the `patient_admissions_filtered` dataframe"
   ]
  },
  {
   "cell_type": "code",
   "execution_count": 34,
   "id": "eeaf02db",
   "metadata": {},
   "outputs": [],
   "source": [
    "charlson = charlson[['HADM_ID', 'comorbidity_score']]"
   ]
  },
  {
   "cell_type": "code",
   "execution_count": 35,
   "id": "7f9ddc5e",
   "metadata": {},
   "outputs": [],
   "source": [
    "patient_admissions_filtered = pd.merge(\n",
    "    patient_admissions_filtered, \n",
    "    charlson,\n",
    "    on='HADM_ID',\n",
    "    how='left'\n",
    ")"
   ]
  },
  {
   "cell_type": "markdown",
   "id": "74496ea0",
   "metadata": {},
   "source": [
    "### Adding in Length of stay\n",
    "\n",
    "Length of stay is a simple calculation of discharge time minus admission time (`ADMITTIME` - `DISCHTIME`)"
   ]
  },
  {
   "cell_type": "code",
   "execution_count": 36,
   "id": "f0b2b552",
   "metadata": {},
   "outputs": [],
   "source": [
    "patient_admissions_filtered['LENGTH_OF_STAY'] = (patient_admissions_filtered['DISCHTIME'] - patient_admissions_filtered['ADMITTIME']).dt.days"
   ]
  },
  {
   "cell_type": "markdown",
   "id": "f3469a5f",
   "metadata": {},
   "source": [
    "### Determining Re-admissions\n",
    "\n",
    "A standard timeframe for monitoring readmissions is 30 days. To figure out if a patient has been readmitted during this timeframe, first we want to see if each particular patient has been readmitted at all. If so, we can determine when they were discharged and store that in a column for previous discharge time `PREV_DISCHTIME`. Then we can calculate the difference between the next admission and the previous discharge. We convert that timedelta to days and store it a new column for days to readmission `DAYS_TO_READMIT`. Finally, we flag any values that are within our 30 day window and store that in a binary column `READMISSION_FLAG`."
   ]
  },
  {
   "cell_type": "code",
   "execution_count": 37,
   "id": "0f76036c",
   "metadata": {},
   "outputs": [],
   "source": [
    "patient_admissions_filtered = patient_admissions_filtered.sort_values(by=['SUBJECT_ID','ADMITTIME'])\n",
    "patient_admissions_filtered['PREV_DISCHTIME'] = patient_admissions_filtered.groupby('SUBJECT_ID')['DISCHTIME'].shift(1)\n",
    "patient_admissions_filtered['TIME_TO_READMIT'] = (patient_admissions_filtered['ADMITTIME'] - patient_admissions_filtered['PREV_DISCHTIME'])\n",
    "patient_admissions_filtered['DAYS_TO_READMIT'] = patient_admissions_filtered['TIME_TO_READMIT'].dt.days"
   ]
  },
  {
   "cell_type": "code",
   "execution_count": 38,
   "id": "07080cd9",
   "metadata": {},
   "outputs": [],
   "source": [
    "READMISSION_WINDOW = 30\n",
    "\n",
    "patient_admissions_filtered['READMISSION_FLAG'] = (\n",
    "    (patient_admissions_filtered['DAYS_TO_READMIT'].notna()) &\n",
    "    (patient_admissions_filtered['DAYS_TO_READMIT'] <= READMISSION_WINDOW)\n",
    ").astype(int)"
   ]
  },
  {
   "cell_type": "markdown",
   "id": "5bdcf7bb",
   "metadata": {},
   "source": [
    "### Accounting for Planned admissions\n",
    "\n",
    "In some cases, a patient may return to the hospital voluntarily. Perhaps they had a visit just before an elective surgery. In order to not overestimate our readmission numbers, we can account for this using the `ADMISSION_TYPE` column. "
   ]
  },
  {
   "cell_type": "code",
   "execution_count": 39,
   "id": "4495f3cf",
   "metadata": {},
   "outputs": [],
   "source": [
    "patient_admissions_filtered.loc[patient_admissions_filtered['ADMISSION_TYPE'] == 'ELECTIVE', 'READMISSION_FLAG'] = 0"
   ]
  },
  {
   "cell_type": "code",
   "execution_count": 40,
   "id": "4b7880e9",
   "metadata": {},
   "outputs": [
    {
     "data": {
      "text/plain": [
       "Index(['ROW_ID_x', 'SUBJECT_ID', 'HADM_ID', 'ADMITTIME', 'DISCHTIME',\n",
       "       'DEATHTIME', 'ADMISSION_TYPE', 'ADMISSION_LOCATION',\n",
       "       'DISCHARGE_LOCATION', 'INSURANCE', 'LANGUAGE', 'RELIGION',\n",
       "       'MARITAL_STATUS', 'ETHNICITY', 'EDREGTIME', 'EDOUTTIME', 'DIAGNOSIS',\n",
       "       'HOSPITAL_EXPIRE_FLAG', 'HAS_CHARTEVENTS_DATA', 'ROW_ID_y', 'GENDER',\n",
       "       'DOB', 'DOD', 'DOD_HOSP', 'DOD_SSN', 'EXPIRE_FLAG', 'AGE_AT_ADMISSION',\n",
       "       'comorbidity_score', 'LENGTH_OF_STAY', 'PREV_DISCHTIME',\n",
       "       'TIME_TO_READMIT', 'DAYS_TO_READMIT', 'READMISSION_FLAG'],\n",
       "      dtype='object')"
      ]
     },
     "execution_count": 40,
     "metadata": {},
     "output_type": "execute_result"
    }
   ],
   "source": [
    "patient_admissions_filtered.columns"
   ]
  },
  {
   "cell_type": "code",
   "execution_count": 41,
   "id": "84d9883b",
   "metadata": {},
   "outputs": [],
   "source": [
    "patient_admissions_filtered = patient_admissions_filtered.drop(['ROW_ID_x',\n",
    "                                                                'ADMISSION_LOCATION', \n",
    "                                                                'DISCHARGE_LOCATION', \n",
    "                                                                'EDREGTIME',\n",
    "                                                                'EDOUTTIME',\n",
    "                                                                'DIAGNOSIS',\n",
    "                                                                'HOSPITAL_EXPIRE_FLAG',\n",
    "                                                                'HAS_CHARTEVENTS_DATA',\n",
    "                                                                'ROW_ID_y',\n",
    "                                                                'DOD',\n",
    "                                                                'DOD_HOSP',\n",
    "                                                                'DOD_SSN',\n",
    "                                                                'EXPIRE_FLAG',\n",
    "                                                                'TIME_TO_READMIT'\n",
    "                                                                ],\n",
    "                                                               axis=1\n",
    "                                                            )"
   ]
  },
  {
   "cell_type": "code",
   "execution_count": 42,
   "id": "fda0ecd0",
   "metadata": {},
   "outputs": [],
   "source": [
    "patient_admissions_filtered['ETHNICITY'] = patient_admissions_filtered['ETHNICITY'].replace({\n",
    "    'WHITE - RUSSIAN': 'WHITE',\n",
    "    'WHITE - OTHER EUROPEAN': 'WHITE',\n",
    "    'WHITE - BRAZILIAN': 'WHITE',\n",
    "    'WHITE - EASTERN EUROPEAN': 'WHITE',\n",
    "    'BLACK/AFRICAN AMERICAN': 'BLACK',\n",
    "    'BLACK/AFRICAN': 'BLACK',\n",
    "    'BLACK/CAPE VERDEAN': 'BLACK',\n",
    "    'HISPANIC/LATINO - PUERTO RICAN': 'HISPANIC/LATINO',\n",
    "    'HISPANIC/LATINO - DOMINICAN REPUBLIC': 'HISPANIC/LATINO',\n",
    "    'HISPANIC/LATINO - SALVADORAN': 'HISPANIC/LATINO',\n",
    "    'HISPANIC/LATINO - GUATEMALAN': 'HISPANIC/LATINO',\n",
    "    'HISPANIC/LATINO - COLUMBIAN': 'HISPANIC/LATINO',\n",
    "    'ASIAN - CHINESE': 'ASIAN',\n",
    "    'ASIAN - ASIAN INDIAN': 'ASIAN',\n",
    "    'ASIAN - VIETNAMESE': 'ASIAN',\n",
    "    'ASIAN - CAMBODIAN': 'ASIAN',\n",
    "    'UNKNOWN/NOT SPECIFIED': 'OTHER/UNKNOWN',\n",
    "    'OTHER': 'OTHER/UNKNOWN',\n",
    "    'MULTI RACE ETHNICITY': 'OTHER/UNKNOWN',\n",
    "    'PORTUGUESE': 'HISPANIC/LATINO', \n",
    "    'AMERICAN INDIAN/ALASKA NATIVE': 'INDIGENOUS',\n",
    "    'NATIVE HAWAIIAN OR OTHER PACIFIC ISLANDER': 'INDIGENOUS',\n",
    "    'MIDDLE EASTERN': 'MIDDLE EASTERN',\n",
    "    'SOUTH AMERICAN': 'HISPANIC/LATINO'\n",
    "}\n",
    ")"
   ]
  },
  {
   "cell_type": "code",
   "execution_count": 43,
   "id": "07251d1c",
   "metadata": {},
   "outputs": [],
   "source": [
    "pd.to_pickle(patient_admissions_filtered, output + 'patient_admissions')"
   ]
  }
 ],
 "metadata": {
  "kernelspec": {
   "display_name": "Python 3",
   "language": "python",
   "name": "python3"
  },
  "language_info": {
   "codemirror_mode": {
    "name": "ipython",
    "version": 3
   },
   "file_extension": ".py",
   "mimetype": "text/x-python",
   "name": "python",
   "nbconvert_exporter": "python",
   "pygments_lexer": "ipython3",
   "version": "3.10.12"
  }
 },
 "nbformat": 4,
 "nbformat_minor": 5
}
